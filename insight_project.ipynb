{
  "nbformat": 4,
  "nbformat_minor": 0,
  "metadata": {
    "colab": {
      "name": "insight-project.ipynb",
      "provenance": []
    },
    "kernelspec": {
      "name": "python3",
      "display_name": "Python 3"
    },
    "accelerator": "GPU"
  },
  "cells": [
    {
      "cell_type": "markdown",
      "metadata": {
        "id": "T9pVgTevI_S8",
        "colab_type": "text"
      },
      "source": [
        "# SurveSense: Measuring Workplace Satisfaction from Large Employee Text Surveys\n",
        "This notebook contains two models that I trained for my consulting project at Insight Data Science. Since the models need a GPU for training, I have used google colab notebooks to carry out the training and generating the predictions.\n",
        "\n",
        "The notebook is divided into two parts. The first part contains training the multi-class topics classification model. The second part contains training the binary sentiment classifier. The notebook also contains the code for generating predictions. However, the code for generating predictions has been commented out."
      ]
    },
    {
      "cell_type": "markdown",
      "metadata": {
        "id": "Iq7CGJ-lPlJ7",
        "colab_type": "text"
      },
      "source": [
        "## **Model 1: Multi-class Topics Classification** "
      ]
    },
    {
      "cell_type": "markdown",
      "metadata": {
        "id": "cjRXe5bBMbxj",
        "colab_type": "text"
      },
      "source": [
        "### 1. Mount Drive for Colab"
      ]
    },
    {
      "cell_type": "code",
      "metadata": {
        "id": "3Z9qIJxwJIhj",
        "colab_type": "code",
        "colab": {
          "base_uri": "https://localhost:8080/",
          "height": 34
        },
        "outputId": "ce8358ed-fcde-4308-a69d-d5e622bf86c4"
      },
      "source": [
        "from google.colab import drive\n",
        "drive.mount('/content/drive')"
      ],
      "execution_count": 1,
      "outputs": [
        {
          "output_type": "stream",
          "text": [
            "Mounted at /content/drive\n"
          ],
          "name": "stdout"
        }
      ]
    },
    {
      "cell_type": "code",
      "metadata": {
        "id": "ic_EFwoyMmBG",
        "colab_type": "code",
        "colab": {}
      },
      "source": [
        "# Copy the file containing the labeled data to google drive\n",
        "!cp '/content/drive/My Drive/Insight/topics_labels.csv' 'topics_labels.csv'"
      ],
      "execution_count": 0,
      "outputs": []
    },
    {
      "cell_type": "markdown",
      "metadata": {
        "id": "Uk98sCa1Myef",
        "colab_type": "text"
      },
      "source": [
        "### 2. Import Libraries"
      ]
    },
    {
      "cell_type": "code",
      "metadata": {
        "id": "0BChgEMTMwZT",
        "colab_type": "code",
        "colab": {
          "base_uri": "https://localhost:8080/",
          "height": 191
        },
        "outputId": "00897382-0e0e-4166-9add-a7d021012564"
      },
      "source": [
        "import numpy as np\n",
        "import pandas as pd\n",
        "import re\n",
        "\n",
        "!pip install keras==2.2.4\n",
        "\n",
        "%tensorflow_version 1.x\n",
        "import tensorflow as tf\n",
        "print(tf.__version__)\n",
        "\n",
        "import tensorflow_hub as hub\n",
        "import os\n",
        "from keras import backend as K\n",
        "import keras.layers as layers\n",
        "from keras.models import Model, load_model\n",
        "from keras.engine import Layer"
      ],
      "execution_count": 3,
      "outputs": [
        {
          "output_type": "stream",
          "text": [
            "Requirement already satisfied: keras==2.2.4 in /usr/local/lib/python3.6/dist-packages (2.2.4)\n",
            "Requirement already satisfied: six>=1.9.0 in /usr/local/lib/python3.6/dist-packages (from keras==2.2.4) (1.12.0)\n",
            "Requirement already satisfied: scipy>=0.14 in /usr/local/lib/python3.6/dist-packages (from keras==2.2.4) (1.3.1)\n",
            "Requirement already satisfied: keras-preprocessing>=1.0.5 in /usr/local/lib/python3.6/dist-packages (from keras==2.2.4) (1.1.0)\n",
            "Requirement already satisfied: numpy>=1.9.1 in /usr/local/lib/python3.6/dist-packages (from keras==2.2.4) (1.17.3)\n",
            "Requirement already satisfied: pyyaml in /usr/local/lib/python3.6/dist-packages (from keras==2.2.4) (3.13)\n",
            "Requirement already satisfied: keras-applications>=1.0.6 in /usr/local/lib/python3.6/dist-packages (from keras==2.2.4) (1.0.8)\n",
            "Requirement already satisfied: h5py in /usr/local/lib/python3.6/dist-packages (from keras==2.2.4) (2.8.0)\n",
            "1.15.0\n"
          ],
          "name": "stdout"
        },
        {
          "output_type": "stream",
          "text": [
            "Using TensorFlow backend.\n"
          ],
          "name": "stderr"
        }
      ]
    },
    {
      "cell_type": "markdown",
      "metadata": {
        "id": "J3cQtHDwNFy0",
        "colab_type": "text"
      },
      "source": [
        "### 3. Read Data"
      ]
    },
    {
      "cell_type": "code",
      "metadata": {
        "id": "MpwIzlFPNCSH",
        "colab_type": "code",
        "colab": {}
      },
      "source": [
        "data_df = pd.read_csv('topics_labels.csv')\n",
        "data_df = data_df.sample(frac=1)\n"
      ],
      "execution_count": 0,
      "outputs": []
    },
    {
      "cell_type": "code",
      "metadata": {
        "id": "7_V2ZbEPNML-",
        "colab_type": "code",
        "colab": {
          "base_uri": "https://localhost:8080/",
          "height": 206
        },
        "outputId": "8fc26037-7d9f-412e-eec3-21f2a6016639"
      },
      "source": [
        "data_df.head()"
      ],
      "execution_count": 5,
      "outputs": [
        {
          "output_type": "execute_result",
          "data": {
            "text/html": [
              "<div>\n",
              "<style scoped>\n",
              "    .dataframe tbody tr th:only-of-type {\n",
              "        vertical-align: middle;\n",
              "    }\n",
              "\n",
              "    .dataframe tbody tr th {\n",
              "        vertical-align: top;\n",
              "    }\n",
              "\n",
              "    .dataframe thead th {\n",
              "        text-align: right;\n",
              "    }\n",
              "</style>\n",
              "<table border=\"1\" class=\"dataframe\">\n",
              "  <thead>\n",
              "    <tr style=\"text-align: right;\">\n",
              "      <th></th>\n",
              "      <th>Unnamed: 0</th>\n",
              "      <th>QID</th>\n",
              "      <th>text</th>\n",
              "      <th>topic</th>\n",
              "    </tr>\n",
              "  </thead>\n",
              "  <tbody>\n",
              "    <tr>\n",
              "      <th>11472</th>\n",
              "      <td>51023</td>\n",
              "      <td>Negative</td>\n",
              "      <td>Dementia training for Care managers, PM and ni...</td>\n",
              "      <td>management</td>\n",
              "    </tr>\n",
              "    <tr>\n",
              "      <th>11056</th>\n",
              "      <td>44219</td>\n",
              "      <td>Negative</td>\n",
              "      <td>The company needs to realize the individual ne...</td>\n",
              "      <td>management</td>\n",
              "    </tr>\n",
              "    <tr>\n",
              "      <th>13577</th>\n",
              "      <td>83354</td>\n",
              "      <td>Positive</td>\n",
              "      <td>The diversity and blending of staff management</td>\n",
              "      <td>management</td>\n",
              "    </tr>\n",
              "    <tr>\n",
              "      <th>30268</th>\n",
              "      <td>71621</td>\n",
              "      <td>Negative</td>\n",
              "      <td>none</td>\n",
              "      <td>no</td>\n",
              "    </tr>\n",
              "    <tr>\n",
              "      <th>21031</th>\n",
              "      <td>35433</td>\n",
              "      <td>Positive</td>\n",
              "      <td>I have been working with silverado for a coupl...</td>\n",
              "      <td>overall</td>\n",
              "    </tr>\n",
              "  </tbody>\n",
              "</table>\n",
              "</div>"
            ],
            "text/plain": [
              "       Unnamed: 0  ...       topic\n",
              "11472       51023  ...  management\n",
              "11056       44219  ...  management\n",
              "13577       83354  ...  management\n",
              "30268       71621  ...          no\n",
              "21031       35433  ...     overall\n",
              "\n",
              "[5 rows x 4 columns]"
            ]
          },
          "metadata": {
            "tags": []
          },
          "execution_count": 5
        }
      ]
    },
    {
      "cell_type": "markdown",
      "metadata": {
        "id": "oDResU_4N1FD",
        "colab_type": "text"
      },
      "source": [
        "### 4. Data Preprocessing"
      ]
    },
    {
      "cell_type": "code",
      "metadata": {
        "id": "maGENFG9NPIC",
        "colab_type": "code",
        "colab": {}
      },
      "source": [
        "# Convert text column to a list of documents\n",
        "texts = list(data_df['text']) \n",
        "\n",
        "# Keep only the first 100 words in each document\n",
        "texts = [' '.join(t.split()[0:100]) for t in texts] \n",
        "\n",
        "# Convert topic column to a list of labels\n",
        "labels = list(data_df['topic'])\n",
        "\n",
        "# Fit label encoder for one-hot encoding\n",
        "from sklearn import preprocessing\n",
        "le = preprocessing.LabelEncoder()\n",
        "le.fit(labels)\n",
        "\n",
        "# Write functions to encode to one-hot and decode to categorical\n",
        "from keras.utils import to_categorical\n",
        "def encode(le, labels):\n",
        "    enc = le.transform(labels)\n",
        "    return to_categorical(enc)\n",
        "\n",
        "def decode(le, one_hot):\n",
        "    dec = np.argmax(one_hot, axis=1)\n",
        "    return le.inverse_transform(dec)"
      ],
      "execution_count": 0,
      "outputs": []
    },
    {
      "cell_type": "code",
      "metadata": {
        "id": "DyPc1J1_OmcH",
        "colab_type": "code",
        "colab": {}
      },
      "source": [
        "# Define labels and texts ready to be fed to ELMO embedding layer\n",
        "label_enc = encode(le,labels)\n",
        "text_enc = texts"
      ],
      "execution_count": 0,
      "outputs": []
    },
    {
      "cell_type": "code",
      "metadata": {
        "id": "mgq_RyWmPOoC",
        "colab_type": "code",
        "colab": {
          "base_uri": "https://localhost:8080/",
          "height": 34
        },
        "outputId": "c0406c95-b82a-48a9-9b90-ac5094e38315"
      },
      "source": [
        "# Check the shape of encoded labels\n",
        "label_enc.shape"
      ],
      "execution_count": 8,
      "outputs": [
        {
          "output_type": "execute_result",
          "data": {
            "text/plain": [
              "(32500, 10)"
            ]
          },
          "metadata": {
            "tags": []
          },
          "execution_count": 8
        }
      ]
    },
    {
      "cell_type": "markdown",
      "metadata": {
        "id": "m1yIAzTDPXpW",
        "colab_type": "text"
      },
      "source": [
        "### 5. Split into train and test"
      ]
    },
    {
      "cell_type": "code",
      "metadata": {
        "id": "qGb6WNd6PToP",
        "colab_type": "code",
        "colab": {}
      },
      "source": [
        "text_train = np.asarray(text_enc[:25000])\n",
        "label_train = np.asarray(label_enc[:25000])\n",
        "\n",
        "text_test = np.asarray(text_enc[25000:])\n",
        "label_test = np.asarray(label_enc[25000:])"
      ],
      "execution_count": 0,
      "outputs": []
    },
    {
      "cell_type": "markdown",
      "metadata": {
        "id": "HDc3IUWVQBbq",
        "colab_type": "text"
      },
      "source": [
        "### 6. Build ELMO Embedding Layer\n"
      ]
    },
    {
      "cell_type": "code",
      "metadata": {
        "id": "PUoW8LEjPeiy",
        "colab_type": "code",
        "colab": {}
      },
      "source": [
        "# Download ELMO from tensorflow hub\n",
        "elmo = hub.Module(\"https://tfhub.dev/google/elmo/2\", trainable=True)"
      ],
      "execution_count": 0,
      "outputs": []
    },
    {
      "cell_type": "code",
      "metadata": {
        "id": "xKiB3D32P-vH",
        "colab_type": "code",
        "colab": {}
      },
      "source": [
        "# Create a custom layer that allows us to update weights (lambda layers do not have trainable parameters!)\n",
        "\n",
        "class ElmoEmbeddingLayer(Layer):\n",
        "    def __init__(self, **kwargs):\n",
        "        self.dimensions = 1024\n",
        "        self.trainable=True\n",
        "        super(ElmoEmbeddingLayer, self).__init__(**kwargs)\n",
        "\n",
        "    def build(self, input_shape):\n",
        "        self.elmo = hub.Module('https://tfhub.dev/google/elmo/2', trainable=self.trainable,\n",
        "                               name=\"{}_module\".format(self.name))\n",
        "\n",
        "        self.trainable_weights += K.tf.trainable_variables(scope=\"^{}_module/.*\".format(self.name))\n",
        "        super(ElmoEmbeddingLayer, self).build(input_shape)\n",
        "\n",
        "    def call(self, x, mask=None):\n",
        "        result = self.elmo(K.squeeze(K.cast(x, tf.string), axis=1),\n",
        "                      as_dict=True,\n",
        "                      signature='default',\n",
        "                      )['default']\n",
        "        return result\n",
        "\n",
        "    def compute_mask(self, inputs, mask=None):\n",
        "        return K.not_equal(inputs, '--PAD--')\n",
        "\n",
        "    def compute_output_shape(self, input_shape):\n",
        "        return (input_shape[0], self.dimensions)"
      ],
      "execution_count": 0,
      "outputs": []
    },
    {
      "cell_type": "markdown",
      "metadata": {
        "id": "SfvbiAbXQPBz",
        "colab_type": "text"
      },
      "source": [
        "### 7. Build and Train Model"
      ]
    },
    {
      "cell_type": "code",
      "metadata": {
        "id": "YtawgskBQRtQ",
        "colab_type": "code",
        "colab": {
          "base_uri": "https://localhost:8080/",
          "height": 784
        },
        "outputId": "2fb79374-2c0d-4605-8603-e67a478f76c7"
      },
      "source": [
        "# Build Model Using Keras Layers\n",
        "\n",
        "input_text = layers.Input(shape=(1,), dtype=\"string\")\n",
        "embedding = ElmoEmbeddingLayer()(input_text)\n",
        "dense = layers.Dense(128, activation='relu')(embedding)\n",
        "pred = layers.Dense(10, activation='sigmoid')(dense)#(dropout)\n",
        "\n",
        "model = Model(inputs=[input_text], outputs=pred)\n",
        "\n",
        "model.compile(loss='binary_crossentropy', optimizer='adam', metrics=['accuracy'])\n",
        "model.summary()"
      ],
      "execution_count": 12,
      "outputs": [
        {
          "output_type": "stream",
          "text": [
            "WARNING:tensorflow:From /usr/local/lib/python3.6/dist-packages/keras/backend/tensorflow_backend.py:74: The name tf.get_default_graph is deprecated. Please use tf.compat.v1.get_default_graph instead.\n",
            "\n"
          ],
          "name": "stdout"
        },
        {
          "output_type": "stream",
          "text": [
            "WARNING:tensorflow:From /usr/local/lib/python3.6/dist-packages/keras/backend/tensorflow_backend.py:74: The name tf.get_default_graph is deprecated. Please use tf.compat.v1.get_default_graph instead.\n",
            "\n"
          ],
          "name": "stderr"
        },
        {
          "output_type": "stream",
          "text": [
            "WARNING:tensorflow:From /usr/local/lib/python3.6/dist-packages/keras/backend/tensorflow_backend.py:517: The name tf.placeholder is deprecated. Please use tf.compat.v1.placeholder instead.\n",
            "\n"
          ],
          "name": "stdout"
        },
        {
          "output_type": "stream",
          "text": [
            "WARNING:tensorflow:From /usr/local/lib/python3.6/dist-packages/keras/backend/tensorflow_backend.py:517: The name tf.placeholder is deprecated. Please use tf.compat.v1.placeholder instead.\n",
            "\n"
          ],
          "name": "stderr"
        },
        {
          "output_type": "stream",
          "text": [
            "INFO:tensorflow:Saver not created because there are no variables in the graph to restore\n"
          ],
          "name": "stdout"
        },
        {
          "output_type": "stream",
          "text": [
            "INFO:tensorflow:Saver not created because there are no variables in the graph to restore\n"
          ],
          "name": "stderr"
        },
        {
          "output_type": "stream",
          "text": [
            "WARNING:tensorflow:From /usr/local/lib/python3.6/dist-packages/keras/backend/tensorflow_backend.py:4138: The name tf.random_uniform is deprecated. Please use tf.random.uniform instead.\n",
            "\n"
          ],
          "name": "stdout"
        },
        {
          "output_type": "stream",
          "text": [
            "WARNING:tensorflow:From /usr/local/lib/python3.6/dist-packages/keras/backend/tensorflow_backend.py:4138: The name tf.random_uniform is deprecated. Please use tf.random.uniform instead.\n",
            "\n"
          ],
          "name": "stderr"
        },
        {
          "output_type": "stream",
          "text": [
            "WARNING:tensorflow:From /usr/local/lib/python3.6/dist-packages/keras/optimizers.py:790: The name tf.train.Optimizer is deprecated. Please use tf.compat.v1.train.Optimizer instead.\n",
            "\n"
          ],
          "name": "stdout"
        },
        {
          "output_type": "stream",
          "text": [
            "WARNING:tensorflow:From /usr/local/lib/python3.6/dist-packages/keras/optimizers.py:790: The name tf.train.Optimizer is deprecated. Please use tf.compat.v1.train.Optimizer instead.\n",
            "\n"
          ],
          "name": "stderr"
        },
        {
          "output_type": "stream",
          "text": [
            "WARNING:tensorflow:From /usr/local/lib/python3.6/dist-packages/keras/backend/tensorflow_backend.py:3376: The name tf.log is deprecated. Please use tf.math.log instead.\n",
            "\n"
          ],
          "name": "stdout"
        },
        {
          "output_type": "stream",
          "text": [
            "WARNING:tensorflow:From /usr/local/lib/python3.6/dist-packages/keras/backend/tensorflow_backend.py:3376: The name tf.log is deprecated. Please use tf.math.log instead.\n",
            "\n"
          ],
          "name": "stderr"
        },
        {
          "output_type": "stream",
          "text": [
            "WARNING:tensorflow:From /usr/local/lib/python3.6/dist-packages/tensorflow_core/python/ops/nn_impl.py:183: where (from tensorflow.python.ops.array_ops) is deprecated and will be removed in a future version.\n",
            "Instructions for updating:\n",
            "Use tf.where in 2.0, which has the same broadcast rule as np.where\n"
          ],
          "name": "stdout"
        },
        {
          "output_type": "stream",
          "text": [
            "WARNING:tensorflow:From /usr/local/lib/python3.6/dist-packages/tensorflow_core/python/ops/nn_impl.py:183: where (from tensorflow.python.ops.array_ops) is deprecated and will be removed in a future version.\n",
            "Instructions for updating:\n",
            "Use tf.where in 2.0, which has the same broadcast rule as np.where\n"
          ],
          "name": "stderr"
        },
        {
          "output_type": "stream",
          "text": [
            "_________________________________________________________________\n",
            "Layer (type)                 Output Shape              Param #   \n",
            "=================================================================\n",
            "input_1 (InputLayer)         (None, 1)                 0         \n",
            "_________________________________________________________________\n",
            "elmo_embedding_layer_1 (Elmo (None, 1024)              4         \n",
            "_________________________________________________________________\n",
            "dense_1 (Dense)              (None, 128)               131200    \n",
            "_________________________________________________________________\n",
            "dense_2 (Dense)              (None, 10)                1290      \n",
            "=================================================================\n",
            "Total params: 132,494\n",
            "Trainable params: 132,494\n",
            "Non-trainable params: 0\n",
            "_________________________________________________________________\n"
          ],
          "name": "stdout"
        }
      ]
    },
    {
      "cell_type": "code",
      "metadata": {
        "id": "9qp2agBSQjof",
        "colab_type": "code",
        "colab": {
          "base_uri": "https://localhost:8080/",
          "height": 506
        },
        "outputId": "2fe65e95-c0e5-4063-fad4-a8a61ce3e013"
      },
      "source": [
        "with tf.Session() as session:\n",
        "    K.set_session(session)\n",
        "    session.run(tf.global_variables_initializer())  \n",
        "    session.run(tf.tables_initializer())\n",
        "    history = model.fit(text_train, label_train, epochs=1, batch_size=6, validation_data=(text_test,label_test))\n",
        "    model.save_weights('./elmo-model.h5')"
      ],
      "execution_count": 13,
      "outputs": [
        {
          "output_type": "stream",
          "text": [
            "WARNING:tensorflow:From /usr/local/lib/python3.6/dist-packages/keras/backend/tensorflow_backend.py:986: The name tf.assign_add is deprecated. Please use tf.compat.v1.assign_add instead.\n",
            "\n"
          ],
          "name": "stdout"
        },
        {
          "output_type": "stream",
          "text": [
            "WARNING:tensorflow:From /usr/local/lib/python3.6/dist-packages/keras/backend/tensorflow_backend.py:986: The name tf.assign_add is deprecated. Please use tf.compat.v1.assign_add instead.\n",
            "\n"
          ],
          "name": "stderr"
        },
        {
          "output_type": "stream",
          "text": [
            "WARNING:tensorflow:From /usr/local/lib/python3.6/dist-packages/keras/backend/tensorflow_backend.py:973: The name tf.assign is deprecated. Please use tf.compat.v1.assign instead.\n",
            "\n"
          ],
          "name": "stdout"
        },
        {
          "output_type": "stream",
          "text": [
            "WARNING:tensorflow:From /usr/local/lib/python3.6/dist-packages/keras/backend/tensorflow_backend.py:973: The name tf.assign is deprecated. Please use tf.compat.v1.assign instead.\n",
            "\n"
          ],
          "name": "stderr"
        },
        {
          "output_type": "stream",
          "text": [
            "Train on 25000 samples, validate on 7500 samples\n",
            "Epoch 1/1\n",
            "WARNING:tensorflow:From /usr/local/lib/python3.6/dist-packages/keras/backend/tensorflow_backend.py:174: The name tf.get_default_session is deprecated. Please use tf.compat.v1.get_default_session instead.\n",
            "\n"
          ],
          "name": "stdout"
        },
        {
          "output_type": "stream",
          "text": [
            "WARNING:tensorflow:From /usr/local/lib/python3.6/dist-packages/keras/backend/tensorflow_backend.py:174: The name tf.get_default_session is deprecated. Please use tf.compat.v1.get_default_session instead.\n",
            "\n"
          ],
          "name": "stderr"
        },
        {
          "output_type": "stream",
          "text": [
            "WARNING:tensorflow:From /usr/local/lib/python3.6/dist-packages/keras/backend/tensorflow_backend.py:190: The name tf.global_variables is deprecated. Please use tf.compat.v1.global_variables instead.\n",
            "\n"
          ],
          "name": "stdout"
        },
        {
          "output_type": "stream",
          "text": [
            "WARNING:tensorflow:From /usr/local/lib/python3.6/dist-packages/keras/backend/tensorflow_backend.py:190: The name tf.global_variables is deprecated. Please use tf.compat.v1.global_variables instead.\n",
            "\n"
          ],
          "name": "stderr"
        },
        {
          "output_type": "stream",
          "text": [
            "WARNING:tensorflow:From /usr/local/lib/python3.6/dist-packages/keras/backend/tensorflow_backend.py:199: The name tf.is_variable_initialized is deprecated. Please use tf.compat.v1.is_variable_initialized instead.\n",
            "\n"
          ],
          "name": "stdout"
        },
        {
          "output_type": "stream",
          "text": [
            "WARNING:tensorflow:From /usr/local/lib/python3.6/dist-packages/keras/backend/tensorflow_backend.py:199: The name tf.is_variable_initialized is deprecated. Please use tf.compat.v1.is_variable_initialized instead.\n",
            "\n"
          ],
          "name": "stderr"
        },
        {
          "output_type": "stream",
          "text": [
            "WARNING:tensorflow:From /usr/local/lib/python3.6/dist-packages/keras/backend/tensorflow_backend.py:206: The name tf.variables_initializer is deprecated. Please use tf.compat.v1.variables_initializer instead.\n",
            "\n"
          ],
          "name": "stdout"
        },
        {
          "output_type": "stream",
          "text": [
            "WARNING:tensorflow:From /usr/local/lib/python3.6/dist-packages/keras/backend/tensorflow_backend.py:206: The name tf.variables_initializer is deprecated. Please use tf.compat.v1.variables_initializer instead.\n",
            "\n"
          ],
          "name": "stderr"
        },
        {
          "output_type": "stream",
          "text": [
            "25000/25000 [==============================] - 1872s 75ms/step - loss: 0.0806 - acc: 0.9716 - val_loss: 0.0515 - val_acc: 0.9819\n"
          ],
          "name": "stdout"
        }
      ]
    },
    {
      "cell_type": "code",
      "metadata": {
        "id": "b4JiEIdSQyO1",
        "colab_type": "code",
        "colab": {}
      },
      "source": [
        "# Run on testing data to generate predictions\n",
        "with tf.Session() as session:\n",
        "    K.set_session(session)\n",
        "    session.run(tf.global_variables_initializer())\n",
        "    session.run(tf.tables_initializer())\n",
        "    model.load_weights('./elmo-model.h5')  \n",
        "    predicts = model.predict(text_test, batch_size=128)"
      ],
      "execution_count": 0,
      "outputs": []
    },
    {
      "cell_type": "code",
      "metadata": {
        "id": "DyMblJElRJMa",
        "colab_type": "code",
        "colab": {}
      },
      "source": [
        "# Save model\n",
        "!cp 'elmo-model.h5' '/content/drive/My Drive/Insight/elmo-model.h5'"
      ],
      "execution_count": 0,
      "outputs": []
    },
    {
      "cell_type": "markdown",
      "metadata": {
        "id": "WrckKUusRNJ9",
        "colab_type": "text"
      },
      "source": [
        "### 8. Model Evaluation"
      ]
    },
    {
      "cell_type": "code",
      "metadata": {
        "id": "7R2A1LWeRQqX",
        "colab_type": "code",
        "colab": {}
      },
      "source": [
        "# Import evaluation functions\n",
        "from sklearn.metrics import accuracy_score, precision_score, recall_score, f1_score"
      ],
      "execution_count": 0,
      "outputs": []
    },
    {
      "cell_type": "code",
      "metadata": {
        "id": "TXTyqazLRVH_",
        "colab_type": "code",
        "colab": {}
      },
      "source": [
        "# Choose the class with the highest probability as the prediction\n",
        "predicts_shape=np.shape(predicts)\n",
        "y_pred = np.zeros(predicts_shape)\n",
        "y_pred = predicts.argmax(axis=-1)\n"
      ],
      "execution_count": 0,
      "outputs": []
    },
    {
      "cell_type": "code",
      "metadata": {
        "id": "XOVlJR1-RkR0",
        "colab_type": "code",
        "colab": {}
      },
      "source": [
        "# Convert the prediction from one-hot encoding to binary encoding\n",
        "lb = preprocessing.LabelBinarizer()\n",
        "lb.fit(list(range(0,10)))\n",
        "y_pred_ohe = lb.transform(y_pred)\n",
        "y_pred_ohe = lb.transform(y_pred)"
      ],
      "execution_count": 0,
      "outputs": []
    },
    {
      "cell_type": "code",
      "metadata": {
        "id": "3jpKBnPZRyA4",
        "colab_type": "code",
        "colab": {
          "base_uri": "https://localhost:8080/",
          "height": 86
        },
        "outputId": "7b6ac8b5-97cf-447a-8dd9-06e548e4b6ed"
      },
      "source": [
        "# Print accuracy, precision, and recall\n",
        "print('Test Accuracy Score: ', format(accuracy_score(label_test,y_pred_ohe)))\n",
        "print('Test Precision Score: ', format(precision_score(label_test, y_pred_ohe, average = 'macro')))\n",
        "print('Test Recall Score: ', format(recall_score(label_test, y_pred_ohe, average = 'macro')))\n",
        "print('Test F1-Score Score: ', format(f1_score(label_test, y_pred_ohe, average = 'macro')))"
      ],
      "execution_count": 26,
      "outputs": [
        {
          "output_type": "stream",
          "text": [
            "Test Accuracy Score:  0.9096\n",
            "Test Precision Score:  0.903518051886465\n",
            "Test Recall Score:  0.8383890831360153\n",
            "Test F1-Score Score:  0.8650065429430287\n"
          ],
          "name": "stdout"
        }
      ]
    },
    {
      "cell_type": "markdown",
      "metadata": {
        "id": "Vmxbj9uATWHb",
        "colab_type": "text"
      },
      "source": [
        "### 9. Make Predictions on Unlabelled Data"
      ]
    },
    {
      "cell_type": "code",
      "metadata": {
        "id": "CwgV3jMnTfxw",
        "colab_type": "code",
        "colab": {}
      },
      "source": [
        "# Copy the file containing the unlabeled data to google drive\n",
        "!cp '/content/drive/My Drive/Insight/cleaned_data_english.csv' 'cleaned_data_english.csv'"
      ],
      "execution_count": 0,
      "outputs": []
    },
    {
      "cell_type": "code",
      "metadata": {
        "id": "0UO-4uiLUD2d",
        "colab_type": "code",
        "colab": {
          "base_uri": "https://localhost:8080/",
          "height": 206
        },
        "outputId": "d7bb9ca8-11ca-4349-98d4-5f8946bc4e49"
      },
      "source": [
        "# Read unlabeled data\n",
        "unlabeled_df = pd.read_csv('cleaned_data_english.csv')\n",
        "unlabeled_df.head()"
      ],
      "execution_count": 21,
      "outputs": [
        {
          "output_type": "execute_result",
          "data": {
            "text/html": [
              "<div>\n",
              "<style scoped>\n",
              "    .dataframe tbody tr th:only-of-type {\n",
              "        vertical-align: middle;\n",
              "    }\n",
              "\n",
              "    .dataframe tbody tr th {\n",
              "        vertical-align: top;\n",
              "    }\n",
              "\n",
              "    .dataframe thead th {\n",
              "        text-align: right;\n",
              "    }\n",
              "</style>\n",
              "<table border=\"1\" class=\"dataframe\">\n",
              "  <thead>\n",
              "    <tr style=\"text-align: right;\">\n",
              "      <th></th>\n",
              "      <th>QID</th>\n",
              "      <th>Text</th>\n",
              "    </tr>\n",
              "  </thead>\n",
              "  <tbody>\n",
              "    <tr>\n",
              "      <th>0</th>\n",
              "      <td>Positive</td>\n",
              "      <td>all is good</td>\n",
              "    </tr>\n",
              "    <tr>\n",
              "      <th>1</th>\n",
              "      <td>Negative</td>\n",
              "      <td>Nothing</td>\n",
              "    </tr>\n",
              "    <tr>\n",
              "      <th>2</th>\n",
              "      <td>Negative</td>\n",
              "      <td>I believe that there is more favoritism toward...</td>\n",
              "    </tr>\n",
              "    <tr>\n",
              "      <th>3</th>\n",
              "      <td>Positive</td>\n",
              "      <td>The connection with each individual resident</td>\n",
              "    </tr>\n",
              "    <tr>\n",
              "      <th>4</th>\n",
              "      <td>Positive</td>\n",
              "      <td>no</td>\n",
              "    </tr>\n",
              "  </tbody>\n",
              "</table>\n",
              "</div>"
            ],
            "text/plain": [
              "        QID                                               Text\n",
              "0  Positive                                        all is good\n",
              "1  Negative                                            Nothing\n",
              "2  Negative  I believe that there is more favoritism toward...\n",
              "3  Positive       The connection with each individual resident\n",
              "4  Positive                                                 no"
            ]
          },
          "metadata": {
            "tags": []
          },
          "execution_count": 21
        }
      ]
    },
    {
      "cell_type": "code",
      "metadata": {
        "id": "dhW6oW94UPGa",
        "colab_type": "code",
        "colab": {}
      },
      "source": [
        "# Convert the text comments to a numpy array\n",
        "X_predict = unlabeled_df['Text']\n",
        "X_predict = list(X_predict)\n",
        "X_predict = [' '.join(t.split()[0:100]) for t in X_predict]\n",
        "X_predict = np.asarray(X_predict)"
      ],
      "execution_count": 0,
      "outputs": []
    },
    {
      "cell_type": "code",
      "metadata": {
        "id": "pyZ-yahjUc7n",
        "colab_type": "code",
        "colab": {}
      },
      "source": [
        "# ## Make predictions\n",
        "\n",
        "# with tf.Session() as session:\n",
        "#     K.set_session(session)\n",
        "#     session.run(tf.global_variables_initializer())\n",
        "#     session.run(tf.tables_initializer())\n",
        "#     model.load_weights('./elmo-model.h5')  \n",
        "#     predicts = model.predict(X_predict, batch_size=128)"
      ],
      "execution_count": 0,
      "outputs": []
    },
    {
      "cell_type": "code",
      "metadata": {
        "id": "T2gONkrCUhsJ",
        "colab_type": "code",
        "colab": {}
      },
      "source": [
        "# # Save predictions\n",
        "\n",
        "# np.savetxt('predicts_final.txt', predicts)"
      ],
      "execution_count": 0,
      "outputs": []
    },
    {
      "cell_type": "markdown",
      "metadata": {
        "id": "gbwmo8-PWCqN",
        "colab_type": "text"
      },
      "source": [
        "### 10. Create DataFrame with Unlabeled Text and Predictions"
      ]
    },
    {
      "cell_type": "code",
      "metadata": {
        "id": "SAN3HkrnWb1A",
        "colab_type": "code",
        "colab": {}
      },
      "source": [
        "# Load Predictions\n",
        "!cp '/content/drive/My Drive/Insight/predicts_final.txt' 'predicts_final.txt'\n",
        "predicts = np.loadtxt('predicts_final.txt', dtype=float)\n",
        "predicts_df = pd.read_csv('cleaned_data_english.csv')"
      ],
      "execution_count": 0,
      "outputs": []
    },
    {
      "cell_type": "code",
      "metadata": {
        "id": "YnUTFjtJWjLT",
        "colab_type": "code",
        "colab": {}
      },
      "source": [
        "# Create DataFrame with topic class as column name\n",
        "columnNames = ['Benefits', 'Coworkers', 'EmployeeRelations', 'Management',\n",
        "               'None', 'Organized','Overall','Pay','Schedule','Staffing']\n",
        "\n",
        "predicts_df[columnNames] = pd.DataFrame(predicts, columns = columnNames )"
      ],
      "execution_count": 0,
      "outputs": []
    },
    {
      "cell_type": "code",
      "metadata": {
        "id": "KtIzHJEpsMS9",
        "colab_type": "code",
        "colab": {
          "base_uri": "https://localhost:8080/",
          "height": 112
        },
        "outputId": "a7e0bb4e-105d-4bfe-a2d4-d27a11f710ba"
      },
      "source": [
        "predicts_df.head(2)"
      ],
      "execution_count": 31,
      "outputs": [
        {
          "output_type": "execute_result",
          "data": {
            "text/html": [
              "<div>\n",
              "<style scoped>\n",
              "    .dataframe tbody tr th:only-of-type {\n",
              "        vertical-align: middle;\n",
              "    }\n",
              "\n",
              "    .dataframe tbody tr th {\n",
              "        vertical-align: top;\n",
              "    }\n",
              "\n",
              "    .dataframe thead th {\n",
              "        text-align: right;\n",
              "    }\n",
              "</style>\n",
              "<table border=\"1\" class=\"dataframe\">\n",
              "  <thead>\n",
              "    <tr style=\"text-align: right;\">\n",
              "      <th></th>\n",
              "      <th>QID</th>\n",
              "      <th>Text</th>\n",
              "      <th>Benefits</th>\n",
              "      <th>Coworkers</th>\n",
              "      <th>EmployeeRelations</th>\n",
              "      <th>Management</th>\n",
              "      <th>None</th>\n",
              "      <th>Organized</th>\n",
              "      <th>Overall</th>\n",
              "      <th>Pay</th>\n",
              "      <th>Schedule</th>\n",
              "      <th>Staffing</th>\n",
              "    </tr>\n",
              "  </thead>\n",
              "  <tbody>\n",
              "    <tr>\n",
              "      <th>0</th>\n",
              "      <td>Positive</td>\n",
              "      <td>all is good</td>\n",
              "      <td>2.987912e-01</td>\n",
              "      <td>0.000109</td>\n",
              "      <td>0.000152</td>\n",
              "      <td>0.000257</td>\n",
              "      <td>0.681909</td>\n",
              "      <td>0.000049</td>\n",
              "      <td>0.001233</td>\n",
              "      <td>0.000047</td>\n",
              "      <td>0.000155</td>\n",
              "      <td>0.00264</td>\n",
              "    </tr>\n",
              "    <tr>\n",
              "      <th>1</th>\n",
              "      <td>Negative</td>\n",
              "      <td>Nothing</td>\n",
              "      <td>1.788139e-07</td>\n",
              "      <td>0.000000</td>\n",
              "      <td>0.000000</td>\n",
              "      <td>0.000000</td>\n",
              "      <td>1.000000</td>\n",
              "      <td>0.000000</td>\n",
              "      <td>0.000001</td>\n",
              "      <td>0.000000</td>\n",
              "      <td>0.000000</td>\n",
              "      <td>0.00000</td>\n",
              "    </tr>\n",
              "  </tbody>\n",
              "</table>\n",
              "</div>"
            ],
            "text/plain": [
              "        QID         Text      Benefits  ...       Pay  Schedule  Staffing\n",
              "0  Positive  all is good  2.987912e-01  ...  0.000047  0.000155   0.00264\n",
              "1  Negative      Nothing  1.788139e-07  ...  0.000000  0.000000   0.00000\n",
              "\n",
              "[2 rows x 12 columns]"
            ]
          },
          "metadata": {
            "tags": []
          },
          "execution_count": 31
        }
      ]
    },
    {
      "cell_type": "code",
      "metadata": {
        "id": "9z7LI9w-WyCH",
        "colab_type": "code",
        "colab": {}
      },
      "source": [
        "# Convert probabilities to labels by using different thresholds\n",
        "\n",
        "predicts_df['Benefits']=predicts_df['Benefits']>0.7\n",
        "predicts_df['Coworkers']=predicts_df['Coworkers']>0.5\n",
        "predicts_df['EmployeeRelations']=predicts_df['EmployeeRelations']>0.05\n",
        "predicts_df['Management']=predicts_df['Management']>0.85\n",
        "predicts_df['None']=predicts_df['None']>0.95\n",
        "predicts_df['Organized']=predicts_df['Organized']>0.05\n",
        "predicts_df['Overall']=predicts_df['Overall']>0.2\n",
        "predicts_df['Pay']=predicts_df['Pay']>0.4\n",
        "predicts_df['Schedule']=predicts_df['Schedule']>0.4\n",
        "predicts_df['Staffing']=predicts_df['Staffing']>0.3\n"
      ],
      "execution_count": 0,
      "outputs": []
    },
    {
      "cell_type": "code",
      "metadata": {
        "id": "HfY8VDdeXdjW",
        "colab_type": "code",
        "colab": {
          "base_uri": "https://localhost:8080/",
          "height": 241
        },
        "outputId": "27047c21-af20-4567-df17-6902fd9388d4"
      },
      "source": [
        "predicts_df[columnNames]=predicts_df[columnNames].astype('int')\n",
        "predicts_df.head()"
      ],
      "execution_count": 34,
      "outputs": [
        {
          "output_type": "execute_result",
          "data": {
            "text/html": [
              "<div>\n",
              "<style scoped>\n",
              "    .dataframe tbody tr th:only-of-type {\n",
              "        vertical-align: middle;\n",
              "    }\n",
              "\n",
              "    .dataframe tbody tr th {\n",
              "        vertical-align: top;\n",
              "    }\n",
              "\n",
              "    .dataframe thead th {\n",
              "        text-align: right;\n",
              "    }\n",
              "</style>\n",
              "<table border=\"1\" class=\"dataframe\">\n",
              "  <thead>\n",
              "    <tr style=\"text-align: right;\">\n",
              "      <th></th>\n",
              "      <th>QID</th>\n",
              "      <th>Text</th>\n",
              "      <th>Benefits</th>\n",
              "      <th>Coworkers</th>\n",
              "      <th>EmployeeRelations</th>\n",
              "      <th>Management</th>\n",
              "      <th>None</th>\n",
              "      <th>Organized</th>\n",
              "      <th>Overall</th>\n",
              "      <th>Pay</th>\n",
              "      <th>Schedule</th>\n",
              "      <th>Staffing</th>\n",
              "    </tr>\n",
              "  </thead>\n",
              "  <tbody>\n",
              "    <tr>\n",
              "      <th>0</th>\n",
              "      <td>Positive</td>\n",
              "      <td>all is good</td>\n",
              "      <td>0</td>\n",
              "      <td>0</td>\n",
              "      <td>0</td>\n",
              "      <td>0</td>\n",
              "      <td>0</td>\n",
              "      <td>0</td>\n",
              "      <td>0</td>\n",
              "      <td>0</td>\n",
              "      <td>0</td>\n",
              "      <td>0</td>\n",
              "    </tr>\n",
              "    <tr>\n",
              "      <th>1</th>\n",
              "      <td>Negative</td>\n",
              "      <td>Nothing</td>\n",
              "      <td>0</td>\n",
              "      <td>0</td>\n",
              "      <td>0</td>\n",
              "      <td>0</td>\n",
              "      <td>1</td>\n",
              "      <td>0</td>\n",
              "      <td>0</td>\n",
              "      <td>0</td>\n",
              "      <td>0</td>\n",
              "      <td>0</td>\n",
              "    </tr>\n",
              "    <tr>\n",
              "      <th>2</th>\n",
              "      <td>Negative</td>\n",
              "      <td>I believe that there is more favoritism toward...</td>\n",
              "      <td>0</td>\n",
              "      <td>0</td>\n",
              "      <td>1</td>\n",
              "      <td>0</td>\n",
              "      <td>0</td>\n",
              "      <td>0</td>\n",
              "      <td>0</td>\n",
              "      <td>0</td>\n",
              "      <td>0</td>\n",
              "      <td>0</td>\n",
              "    </tr>\n",
              "    <tr>\n",
              "      <th>3</th>\n",
              "      <td>Positive</td>\n",
              "      <td>The connection with each individual resident</td>\n",
              "      <td>0</td>\n",
              "      <td>0</td>\n",
              "      <td>0</td>\n",
              "      <td>0</td>\n",
              "      <td>0</td>\n",
              "      <td>0</td>\n",
              "      <td>0</td>\n",
              "      <td>0</td>\n",
              "      <td>0</td>\n",
              "      <td>0</td>\n",
              "    </tr>\n",
              "    <tr>\n",
              "      <th>4</th>\n",
              "      <td>Positive</td>\n",
              "      <td>no</td>\n",
              "      <td>0</td>\n",
              "      <td>0</td>\n",
              "      <td>0</td>\n",
              "      <td>0</td>\n",
              "      <td>1</td>\n",
              "      <td>0</td>\n",
              "      <td>0</td>\n",
              "      <td>0</td>\n",
              "      <td>0</td>\n",
              "      <td>0</td>\n",
              "    </tr>\n",
              "  </tbody>\n",
              "</table>\n",
              "</div>"
            ],
            "text/plain": [
              "        QID  ... Staffing\n",
              "0  Positive  ...        0\n",
              "1  Negative  ...        0\n",
              "2  Negative  ...        0\n",
              "3  Positive  ...        0\n",
              "4  Positive  ...        0\n",
              "\n",
              "[5 rows x 12 columns]"
            ]
          },
          "metadata": {
            "tags": []
          },
          "execution_count": 34
        }
      ]
    },
    {
      "cell_type": "markdown",
      "metadata": {
        "id": "hw9Lg1MXY5zm",
        "colab_type": "text"
      },
      "source": [
        "## **Model 2: Binary Sentiment Classification** "
      ]
    },
    {
      "cell_type": "markdown",
      "metadata": {
        "id": "JR1B7zuiZkJp",
        "colab_type": "text"
      },
      "source": [
        "### 1. Load Data "
      ]
    },
    {
      "cell_type": "code",
      "metadata": {
        "id": "xMkU-W8yZBr3",
        "colab_type": "code",
        "colab": {
          "base_uri": "https://localhost:8080/",
          "height": 206
        },
        "outputId": "10f83c29-a0f1-485b-b896-c5ce2df5823c"
      },
      "source": [
        "# Copy data to colab drive\n",
        "!cp '/content/drive/My Drive/Insight/sentiment_labels_training.csv' 'sentiment_labels_training.csv'\n",
        "data_df = pd.read_csv('sentiment_labels_training.csv', header=None, names=['QID','Comment','Sentiment'])\n",
        "data_df.head()\n",
        "\n",
        "#"
      ],
      "execution_count": 35,
      "outputs": [
        {
          "output_type": "execute_result",
          "data": {
            "text/html": [
              "<div>\n",
              "<style scoped>\n",
              "    .dataframe tbody tr th:only-of-type {\n",
              "        vertical-align: middle;\n",
              "    }\n",
              "\n",
              "    .dataframe tbody tr th {\n",
              "        vertical-align: top;\n",
              "    }\n",
              "\n",
              "    .dataframe thead th {\n",
              "        text-align: right;\n",
              "    }\n",
              "</style>\n",
              "<table border=\"1\" class=\"dataframe\">\n",
              "  <thead>\n",
              "    <tr style=\"text-align: right;\">\n",
              "      <th></th>\n",
              "      <th>QID</th>\n",
              "      <th>Comment</th>\n",
              "      <th>Sentiment</th>\n",
              "    </tr>\n",
              "  </thead>\n",
              "  <tbody>\n",
              "    <tr>\n",
              "      <th>0</th>\n",
              "      <td>Positive</td>\n",
              "      <td>all is good</td>\n",
              "      <td>1</td>\n",
              "    </tr>\n",
              "    <tr>\n",
              "      <th>1</th>\n",
              "      <td>Negative</td>\n",
              "      <td>Nothing</td>\n",
              "      <td>1</td>\n",
              "    </tr>\n",
              "    <tr>\n",
              "      <th>2</th>\n",
              "      <td>Negative</td>\n",
              "      <td>I believe that there is more favoritism toward...</td>\n",
              "      <td>0</td>\n",
              "    </tr>\n",
              "    <tr>\n",
              "      <th>3</th>\n",
              "      <td>Positive</td>\n",
              "      <td>The connection with each individual resident</td>\n",
              "      <td>1</td>\n",
              "    </tr>\n",
              "    <tr>\n",
              "      <th>4</th>\n",
              "      <td>Positive</td>\n",
              "      <td>no</td>\n",
              "      <td>0</td>\n",
              "    </tr>\n",
              "  </tbody>\n",
              "</table>\n",
              "</div>"
            ],
            "text/plain": [
              "        QID                                            Comment  Sentiment\n",
              "0  Positive                                        all is good          1\n",
              "1  Negative                                            Nothing          1\n",
              "2  Negative  I believe that there is more favoritism toward...          0\n",
              "3  Positive       The connection with each individual resident          1\n",
              "4  Positive                                                 no          0"
            ]
          },
          "metadata": {
            "tags": []
          },
          "execution_count": 35
        }
      ]
    },
    {
      "cell_type": "markdown",
      "metadata": {
        "id": "WLAP4U8VZr1S",
        "colab_type": "text"
      },
      "source": [
        "### 2. Preprocess Data"
      ]
    },
    {
      "cell_type": "code",
      "metadata": {
        "id": "mIx3qBp9ZRSm",
        "colab_type": "code",
        "colab": {}
      },
      "source": [
        "# Concatenate the Question Asked to Capture Implied Sentiment\n",
        "data_df['Question'] = data_df['QID'].replace(['Positive','Negative'],['What works well: ','What needs improvement: '])\n",
        "data_df['Text'] = data_df['Question']+data_df['Comment']"
      ],
      "execution_count": 0,
      "outputs": []
    },
    {
      "cell_type": "markdown",
      "metadata": {
        "id": "whAm3ZrQaj0A",
        "colab_type": "text"
      },
      "source": [
        "### 3. Split Data Into Train and Test Sets"
      ]
    },
    {
      "cell_type": "code",
      "metadata": {
        "id": "kv0THi92aoPE",
        "colab_type": "code",
        "colab": {}
      },
      "source": [
        "from sklearn.model_selection import train_test_split\n",
        "train_df, test_df = train_test_split(data_df[['Text','Sentiment']], test_size=0.1)\n",
        "\n",
        "# Create datasets (Only take up to 100 words for memory)\n",
        "train_text = train_df['Text'].tolist()\n",
        "train_text = [' '.join(t.split()[0:100]) for t in train_text]\n",
        "train_text = np.array(train_text, dtype=object)[:, np.newaxis]\n",
        "train_label = train_df['Sentiment'].tolist()\n",
        "\n",
        "test_text = test_df['Text'].tolist()\n",
        "test_text = [' '.join(t.split()[0:100]) for t in test_text]\n",
        "test_text = np.array(test_text, dtype=object)[:, np.newaxis]\n",
        "test_label = test_df['Sentiment'].tolist()"
      ],
      "execution_count": 0,
      "outputs": []
    },
    {
      "cell_type": "markdown",
      "metadata": {
        "id": "BC2Vkfyiarjm",
        "colab_type": "text"
      },
      "source": [
        "### 4. Build ELMO Embedding Layer"
      ]
    },
    {
      "cell_type": "code",
      "metadata": {
        "id": "B5r1nsGxa02-",
        "colab_type": "code",
        "colab": {}
      },
      "source": [
        "# Create a custom layer that allows us to update weights\n",
        "\n",
        "\n",
        "class ElmoEmbeddingLayer(Layer):\n",
        "    def __init__(self, **kwargs):\n",
        "        self.dimensions = 1024\n",
        "        self.trainable=True\n",
        "        super(ElmoEmbeddingLayer, self).__init__(**kwargs)\n",
        "\n",
        "    def build(self, input_shape):\n",
        "        self.elmo = hub.Module('https://tfhub.dev/google/elmo/2', trainable=self.trainable,\n",
        "                               name=\"{}_module\".format(self.name))\n",
        "\n",
        "        self.trainable_weights += K.tf.trainable_variables(scope=\"^{}_module/.*\".format(self.name))\n",
        "        super(ElmoEmbeddingLayer, self).build(input_shape)\n",
        "\n",
        "    def call(self, x, mask=None):\n",
        "        result = self.elmo(K.squeeze(K.cast(x, tf.string), axis=1),\n",
        "                      as_dict=True,\n",
        "                      signature='default',\n",
        "                      )['default']\n",
        "        return result\n",
        "\n",
        "    def compute_mask(self, inputs, mask=None):\n",
        "        return K.not_equal(inputs, '--PAD--')\n",
        "\n",
        "    def compute_output_shape(self, input_shape):\n",
        "        return (input_shape[0], self.dimensions)"
      ],
      "execution_count": 0,
      "outputs": []
    },
    {
      "cell_type": "markdown",
      "metadata": {
        "id": "cX5cF3CFa-xh",
        "colab_type": "text"
      },
      "source": [
        "### 5. Build Model"
      ]
    },
    {
      "cell_type": "code",
      "metadata": {
        "id": "djnfEHP5a2B6",
        "colab_type": "code",
        "colab": {
          "base_uri": "https://localhost:8080/",
          "height": 312
        },
        "outputId": "a5ab1220-2799-4078-db98-655825e0338e"
      },
      "source": [
        "from keras.optimizers import Adam\n",
        "\n",
        "input_text = layers.Input(shape=(1,), dtype=\"string\")\n",
        "embedding = ElmoEmbeddingLayer()(input_text)\n",
        "dense = layers.Dense(128, activation='relu')(embedding)\n",
        "pred = layers.Dense(1, activation='sigmoid')(dense)\n",
        "\n",
        "model = Model(inputs=[input_text], outputs=pred)\n",
        "\n",
        "model.compile(loss='binary_crossentropy', optimizer=Adam(lr=0.0001), metrics=['accuracy'])\n",
        "model.summary()\n"
      ],
      "execution_count": 39,
      "outputs": [
        {
          "output_type": "stream",
          "text": [
            "INFO:tensorflow:Saver not created because there are no variables in the graph to restore\n"
          ],
          "name": "stdout"
        },
        {
          "output_type": "stream",
          "text": [
            "INFO:tensorflow:Saver not created because there are no variables in the graph to restore\n"
          ],
          "name": "stderr"
        },
        {
          "output_type": "stream",
          "text": [
            "_________________________________________________________________\n",
            "Layer (type)                 Output Shape              Param #   \n",
            "=================================================================\n",
            "input_2 (InputLayer)         (None, 1)                 0         \n",
            "_________________________________________________________________\n",
            "elmo_embedding_layer_2 (Elmo (None, 1024)              4         \n",
            "_________________________________________________________________\n",
            "dense_3 (Dense)              (None, 128)               131200    \n",
            "_________________________________________________________________\n",
            "dense_4 (Dense)              (None, 1)                 129       \n",
            "=================================================================\n",
            "Total params: 131,333\n",
            "Trainable params: 131,333\n",
            "Non-trainable params: 0\n",
            "_________________________________________________________________\n"
          ],
          "name": "stdout"
        }
      ]
    },
    {
      "cell_type": "markdown",
      "metadata": {
        "id": "2RbOEpRJbJX8",
        "colab_type": "text"
      },
      "source": [
        "### 6. Train Model"
      ]
    },
    {
      "cell_type": "code",
      "metadata": {
        "id": "lhwEeIhtbLsf",
        "colab_type": "code",
        "colab": {
          "base_uri": "https://localhost:8080/",
          "height": 382
        },
        "outputId": "032f4f44-77f5-42cc-f3b8-cfbc4c82b2d0"
      },
      "source": [
        "with tf.Session() as session:\n",
        "    K.set_session(session)\n",
        "    session.run(tf.global_variables_initializer())  \n",
        "    session.run(tf.tables_initializer())\n",
        "    history = model.fit(train_text, train_label, epochs=10, batch_size=6, validation_data=(test_text, test_label))\n",
        "    model.save_weights('./elmo-sentiment.h5')"
      ],
      "execution_count": 44,
      "outputs": [
        {
          "output_type": "stream",
          "text": [
            "Train on 404 samples, validate on 45 samples\n",
            "Epoch 1/10\n",
            "404/404 [==============================] - 21s 51ms/step - loss: 0.6268 - acc: 0.6856 - val_loss: 0.5494 - val_acc: 0.8444\n",
            "Epoch 2/10\n",
            "404/404 [==============================] - 20s 48ms/step - loss: 0.5000 - acc: 0.8292 - val_loss: 0.4986 - val_acc: 0.8000\n",
            "Epoch 3/10\n",
            "404/404 [==============================] - 20s 50ms/step - loss: 0.4321 - acc: 0.8391 - val_loss: 0.4412 - val_acc: 0.8444\n",
            "Epoch 4/10\n",
            "404/404 [==============================] - 20s 49ms/step - loss: 0.3764 - acc: 0.8713 - val_loss: 0.4512 - val_acc: 0.7778\n",
            "Epoch 5/10\n",
            "404/404 [==============================] - 20s 48ms/step - loss: 0.3232 - acc: 0.8911 - val_loss: 0.4507 - val_acc: 0.8000\n",
            "Epoch 6/10\n",
            "404/404 [==============================] - 20s 50ms/step - loss: 0.2857 - acc: 0.9134 - val_loss: 0.3492 - val_acc: 0.8222\n",
            "Epoch 7/10\n",
            "404/404 [==============================] - 20s 50ms/step - loss: 0.2562 - acc: 0.9208 - val_loss: 0.3542 - val_acc: 0.8222\n",
            "Epoch 8/10\n",
            "404/404 [==============================] - 20s 49ms/step - loss: 0.2233 - acc: 0.9431 - val_loss: 0.3085 - val_acc: 0.8444\n",
            "Epoch 9/10\n",
            "404/404 [==============================] - 19s 47ms/step - loss: 0.2156 - acc: 0.9332 - val_loss: 0.2818 - val_acc: 0.8667\n",
            "Epoch 10/10\n",
            "404/404 [==============================] - 20s 49ms/step - loss: 0.1879 - acc: 0.9431 - val_loss: 0.2967 - val_acc: 0.8444\n"
          ],
          "name": "stdout"
        }
      ]
    },
    {
      "cell_type": "markdown",
      "metadata": {
        "id": "qVXWPcccbU0Q",
        "colab_type": "text"
      },
      "source": [
        "### 7. Make Predictions on Test Set"
      ]
    },
    {
      "cell_type": "code",
      "metadata": {
        "id": "y-NeJ2C9bRyA",
        "colab_type": "code",
        "colab": {}
      },
      "source": [
        "with tf.Session() as session:\n",
        "    K.set_session(session)\n",
        "    session.run(tf.global_variables_initializer())\n",
        "    session.run(tf.tables_initializer())\n",
        "    model.load_weights('./elmo-sentiment.h5')  \n",
        "    predicts = model.predict(test_text, batch_size=64)"
      ],
      "execution_count": 0,
      "outputs": []
    },
    {
      "cell_type": "markdown",
      "metadata": {
        "id": "ndx1k8vRbkiy",
        "colab_type": "text"
      },
      "source": [
        "### 8. Model Evaluation"
      ]
    },
    {
      "cell_type": "code",
      "metadata": {
        "id": "HsKTBg-2bmbh",
        "colab_type": "code",
        "colab": {
          "base_uri": "https://localhost:8080/",
          "height": 69
        },
        "outputId": "368f5598-a5db-430f-c895-a56dd775a89b"
      },
      "source": [
        "from sklearn.metrics import accuracy_score, precision_score, recall_score, f1_score\n",
        "\n",
        "predicts_shape=np.shape(predicts)\n",
        "y_pred = np.zeros(predicts_shape)\n",
        "y_pred[:] = predicts[:] > 0.5\n",
        "\n",
        "print('Test Accuracy Score: ', format(accuracy_score(test_label,y_pred)))\n",
        "print('Test Precision Score: ', format(precision_score(test_label, y_pred)))\n",
        "print('Test Recall Score: ', format(recall_score(test_label, y_pred)))"
      ],
      "execution_count": 46,
      "outputs": [
        {
          "output_type": "stream",
          "text": [
            "Test Accuracy Score:  0.9111111111111111\n",
            "Test Precision Score:  0.8421052631578947\n",
            "Test Recall Score:  0.9411764705882353\n"
          ],
          "name": "stdout"
        }
      ]
    },
    {
      "cell_type": "markdown",
      "metadata": {
        "id": "KKPmNUt2coHV",
        "colab_type": "text"
      },
      "source": [
        "### 9. Make Predictions on Unlabeled Data"
      ]
    },
    {
      "cell_type": "code",
      "metadata": {
        "id": "MlTu1Fq4cvVX",
        "colab_type": "code",
        "colab": {}
      },
      "source": [
        "# data_list = unlabeled_df['Text'].tolist()\n",
        "# data_list = [' '.join(t.split()[0:100]) for t in data_list]\n",
        "# data_array = np.array(data_list, dtype=object)[:, np.newaxis]\n",
        "\n",
        "# with tf.Session() as session:\n",
        "#     K.set_session(session)\n",
        "#     session.run(tf.global_variables_initializer())\n",
        "#     session.run(tf.tables_initializer())\n",
        "#     model.load_weights('./elmo-sentiment.h5')  \n",
        "#     predicts = model.predict(data_array, batch_size=128)"
      ],
      "execution_count": 0,
      "outputs": []
    },
    {
      "cell_type": "code",
      "metadata": {
        "id": "wfjKE360d1Bp",
        "colab_type": "code",
        "colab": {}
      },
      "source": [
        "# Save Predictions\n",
        "#np.savetxt('sentiment_final.txt', predicts)\n",
        "#!cp 'sentiment_final.txt' '/content/drive/My Drive/Insight/sentiment_final.txt'"
      ],
      "execution_count": 0,
      "outputs": []
    },
    {
      "cell_type": "code",
      "metadata": {
        "id": "5Ygq-kXrsrT7",
        "colab_type": "code",
        "colab": {}
      },
      "source": [
        ""
      ],
      "execution_count": 0,
      "outputs": []
    }
  ]
}